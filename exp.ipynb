{
 "cells": [
  {
   "cell_type": "markdown",
   "metadata": {},
   "source": [
    "## Retrieval"
   ]
  },
  {
   "cell_type": "markdown",
   "metadata": {},
   "source": [
    "### Vector Creation"
   ]
  },
  {
   "cell_type": "code",
   "execution_count": null,
   "metadata": {},
   "outputs": [],
   "source": [
    "import gradio as gr\n",
    "\n",
    "from openai import OpenAI\n",
    "\n",
    "from dotenv import load_dotenv\n",
    "load_dotenv()\n",
    "\n",
    "client = OpenAI()"
   ]
  },
  {
   "cell_type": "code",
   "execution_count": 4,
   "metadata": {},
   "outputs": [],
   "source": []
  },
  {
   "cell_type": "markdown",
   "metadata": {},
   "source": [
    "### Without context, no text from story with query"
   ]
  },
  {
   "cell_type": "code",
   "execution_count": 15,
   "metadata": {},
   "outputs": [],
   "source": [
    "history_openai_format = []\n",
    "message = f\"query: who welcomed Elara?\"\n",
    "    \n",
    "history_openai_format.append({\"role\": \"user\", \"content\": message})\n",
    "    \n",
    "response = client.chat.completions.create(model='gpt-4o-mini',\n",
    "messages= history_openai_format,\n",
    "temperature=0.2,\n",
    "seed=1000,\n",
    "stream=False)"
   ]
  },
  {
   "cell_type": "code",
   "execution_count": 16,
   "metadata": {},
   "outputs": [
    {
     "data": {
      "text/plain": [
       "\"It seems like you're asking about a specific event or context involving someone named Elara. However, without additional details, it's difficult to provide a precise answer. Could you please provide more context or specify which Elara you are referring to?\""
      ]
     },
     "execution_count": 16,
     "metadata": {},
     "output_type": "execute_result"
    }
   ],
   "source": [
    "response.choices[0].message.content"
   ]
  },
  {
   "cell_type": "markdown",
   "metadata": {},
   "source": [
    "### With context, first two chapters from the story"
   ]
  },
  {
   "cell_type": "code",
   "execution_count": 17,
   "metadata": {},
   "outputs": [],
   "source": [
    "context = '''### Title: **The Quantum Navigator**\n",
    "\n",
    "#### Chapter 1: The Discovery\n",
    "\n",
    "In the year 2075, the world was a tapestry of advanced technologies and interconnected systems. Cities floated above the clouds, and artificial intelligence governed almost every aspect of human life. Amidst this technological utopia, in a modest laboratory in the heart of New Tokyo, Dr. Elara Hoshino was on the verge of a groundbreaking discovery.\n",
    "\n",
    "Dr. Hoshino was a quantum physicist, a genius whose work had already revolutionized the field of quantum mechanics. Her current project was a mysterious device she called the \"Quantum Navigator.\" It was designed to manipulate the fabric of spacetime, allowing instantaneous travel between any two points in the universe. The concept was theoretical, but Elara had spent years perfecting the mathematics and technology behind it.\n",
    "\n",
    "On a foggy evening, as Elara meticulously calibrated the Navigator, a soft hum filled the room. The air around the device shimmered, and a swirling vortex of light appeared. Her heart raced as she realized the Navigator was operational. She cautiously approached the vortex, a mixture of fear and exhilaration coursing through her veins. With a deep breath, she stepped into the light.\n",
    "\n",
    "#### Chapter 2: The Other Side\n",
    "\n",
    "Elara emerged on the other side, not in a distant part of Earth but on a completely different planet. She found herself in a lush, alien jungle, with towering trees that glowed faintly in the twilight. The air was thick with the scent of unknown flora, and the sky was a deep indigo, dotted with unfamiliar constellations.\n",
    "\n",
    "As she marveled at the beauty of this alien world, she noticed movement in the underbrush. A group of tall, slender beings with translucent skin and luminescent eyes emerged. They communicated through a series of melodic tones, which Elara's universal translator quickly deciphered. The beings were the Lumarians, an ancient race with a deep understanding of the cosmos.\n",
    "\n",
    "The Lumarians welcomed Elara, intrigued by her arrival. They revealed that they had been aware of Earth's existence for millennia but had chosen to observe from afar. The Lumarians were peaceful and possessed advanced knowledge of quantum travel. They had long ago developed their own version of the Quantum Navigator, which they used to explore the universe and gather knowledge.\n",
    "'''"
   ]
  },
  {
   "cell_type": "code",
   "execution_count": 18,
   "metadata": {},
   "outputs": [],
   "source": [
    "history_openai_format = []\n",
    "message = f\"context: {context}, query: who welcomed Elara?\"\n",
    "    \n",
    "history_openai_format.append({\"role\": \"user\", \"content\": message})\n",
    "    \n",
    "response = client.chat.completions.create(model='gpt-4o-mini',\n",
    "messages= history_openai_format,\n",
    "temperature=0.2,\n",
    "seed=1000,\n",
    "stream=False)"
   ]
  },
  {
   "cell_type": "code",
   "execution_count": 19,
   "metadata": {},
   "outputs": [
    {
     "data": {
      "text/plain": [
       "'The Lumarians welcomed Elara when she arrived on their planet.'"
      ]
     },
     "execution_count": 19,
     "metadata": {},
     "output_type": "execute_result"
    }
   ],
   "source": [
    "response.choices[0].message.content"
   ]
  },
  {
   "cell_type": "code",
   "execution_count": null,
   "metadata": {},
   "outputs": [],
   "source": []
  }
 ],
 "metadata": {
  "kernelspec": {
   "display_name": "grading_pytorch",
   "language": "python",
   "name": "python3"
  },
  "language_info": {
   "codemirror_mode": {
    "name": "ipython",
    "version": 3
   },
   "file_extension": ".py",
   "mimetype": "text/x-python",
   "name": "python",
   "nbconvert_exporter": "python",
   "pygments_lexer": "ipython3",
   "version": "3.10.0"
  }
 },
 "nbformat": 4,
 "nbformat_minor": 2
}
